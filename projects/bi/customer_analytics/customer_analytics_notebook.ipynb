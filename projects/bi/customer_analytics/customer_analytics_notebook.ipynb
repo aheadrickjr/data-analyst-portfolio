{
    "metadata": {
        "kernelspec": {
            "name": "SQL",
            "display_name": "SQL",
            "language": "sql"
        },
        "language_info": {
            "name": "sql",
            "version": ""
        }
    },
    "nbformat_minor": 2,
    "nbformat": 4,
    "cells": [
        {
            "cell_type": "markdown",
            "source": [
                "\\# Customer Analytics (Day 3 Notebook)\n",
                "\n",
                "  \n",
                "\n",
                "This notebook runs SQL against the \\`de\\_portfolio\\` Postgres database.  \n",
                "\n",
                "It answers three key questions:\n",
                "\n",
                "  \n",
                "\n",
                "1\\. Who are the \\*\\*top 10 customers by spend\\*\\*?\n",
                "\n",
                "2\\. What are the \\*\\*monthly revenue trends\\*\\*?\n",
                "\n",
                "3\\. Which customers are \\*\\*repeat buyers\\*\\*?"
            ],
            "metadata": {
                "azdata_cell_guid": "96aafca3-32c5-4f22-8bde-d8b31ee31279"
            },
            "attachments": {}
        },
        {
            "cell_type": "code",
            "source": [
                "-- Quick sanity check\r\n",
                "SELECT COUNT(*) AS total_rows FROM da.ecommerce_sales;\r\n",
                "\r\n",
                "SELECT MIN(InvoiceDate) AS first_date,\r\n",
                "       MAX(InvoiceDate) AS last_date,\r\n",
                "       COUNT(DISTINCT CustomerID) AS unique_customers\r\n",
                "FROM da.ecommerce_sales;\r\n",
                ""
            ],
            "metadata": {
                "azdata_cell_guid": "2fccf717-f3e2-4357-a6d1-faefe5db8e44",
                "language": "sql",
                "tags": [
                    "hide_input"
                ]
            },
            "outputs": [
                {
                    "output_type": "display_data",
                    "data": {
                        "text/html": "(1 row(s) affected)"
                    },
                    "metadata": {}
                },
                {
                    "output_type": "display_data",
                    "data": {
                        "text/html": "(1 row(s) affected)"
                    },
                    "metadata": {}
                },
                {
                    "output_type": "display_data",
                    "data": {
                        "text/html": "Total execution time: 00:00:00.016"
                    },
                    "metadata": {}
                },
                {
                    "output_type": "execute_result",
                    "metadata": {},
                    "execution_count": 8,
                    "data": {
                        "application/vnd.dataresource+json": {
                            "schema": {
                                "fields": [
                                    {
                                        "name": "total_rows"
                                    }
                                ]
                            },
                            "data": [
                                {
                                    "total_rows": "398"
                                }
                            ]
                        },
                        "text/html": [
                            "<table>",
                            "<tr><th>total_rows</th></tr>",
                            "<tr><td>398</td></tr>",
                            "</table>"
                        ]
                    }
                },
                {
                    "output_type": "execute_result",
                    "metadata": {},
                    "execution_count": 8,
                    "data": {
                        "application/vnd.dataresource+json": {
                            "schema": {
                                "fields": [
                                    {
                                        "name": "first_date"
                                    },
                                    {
                                        "name": "last_date"
                                    },
                                    {
                                        "name": "unique_customers"
                                    }
                                ]
                            },
                            "data": [
                                {
                                    "first_date": "2010-12-01 08:26:00",
                                    "last_date": "2010-12-01 10:03:00",
                                    "unique_customers": "16"
                                }
                            ]
                        },
                        "text/html": [
                            "<table>",
                            "<tr><th>first_date</th><th>last_date</th><th>unique_customers</th></tr>",
                            "<tr><td>2010-12-01 08:26:00</td><td>2010-12-01 10:03:00</td><td>16</td></tr>",
                            "</table>"
                        ]
                    }
                }
            ],
            "execution_count": 8
        },
        {
            "cell_type": "code",
            "source": [
                "SELECT CustomerID,\r\n",
                "       ROUND(SUM(UnitPrice * Quantity)::numeric, 2) AS total_spent\r\n",
                "FROM da.ecommerce_sales\r\n",
                "GROUP BY CustomerID\r\n",
                "ORDER BY total_spent DESC\r\n",
                "LIMIT 10;\r\n",
                ""
            ],
            "metadata": {
                "azdata_cell_guid": "84eede6f-9e41-4c31-b922-91c5327b827e",
                "language": "sql",
                "tags": [
                    "hide_input"
                ]
            },
            "outputs": [
                {
                    "output_type": "display_data",
                    "data": {
                        "text/html": "(10 row(s) affected)"
                    },
                    "metadata": {}
                },
                {
                    "output_type": "display_data",
                    "data": {
                        "text/html": "Total execution time: 00:00:00.009"
                    },
                    "metadata": {}
                },
                {
                    "output_type": "execute_result",
                    "metadata": {},
                    "execution_count": 9,
                    "data": {
                        "application/vnd.dataresource+json": {
                            "schema": {
                                "fields": [
                                    {
                                        "name": "customerid"
                                    },
                                    {
                                        "name": "total_spent"
                                    }
                                ]
                            },
                            "data": [
                                {
                                    "customerid": "16029",
                                    "total_spent": "7404.24"
                                },
                                {
                                    "customerid": "12583",
                                    "total_spent": "1711.72"
                                },
                                {
                                    "customerid": "17850",
                                    "total_spent": "1450.88"
                                },
                                {
                                    "customerid": "18074",
                                    "total_spent": "979.20"
                                },
                                {
                                    "customerid": "15311",
                                    "total_spent": "890.66"
                                },
                                {
                                    "customerid": "14688",
                                    "total_spent": "889.96"
                                },
                                {
                                    "customerid": "16098",
                                    "total_spent": "861.20"
                                },
                                {
                                    "customerid": "13047",
                                    "total_spent": "733.26"
                                },
                                {
                                    "customerid": "15100",
                                    "total_spent": "700.80"
                                },
                                {
                                    "customerid": "15291",
                                    "total_spent": "657.60"
                                }
                            ]
                        },
                        "text/html": [
                            "<table>",
                            "<tr><th>customerid</th><th>total_spent</th></tr>",
                            "<tr><td>16029</td><td>7404.24</td></tr>",
                            "<tr><td>12583</td><td>1711.72</td></tr>",
                            "<tr><td>17850</td><td>1450.88</td></tr>",
                            "<tr><td>18074</td><td>979.20</td></tr>",
                            "<tr><td>15311</td><td>890.66</td></tr>",
                            "<tr><td>14688</td><td>889.96</td></tr>",
                            "<tr><td>16098</td><td>861.20</td></tr>",
                            "<tr><td>13047</td><td>733.26</td></tr>",
                            "<tr><td>15100</td><td>700.80</td></tr>",
                            "<tr><td>15291</td><td>657.60</td></tr>",
                            "</table>"
                        ]
                    }
                }
            ],
            "execution_count": 9
        },
        {
            "cell_type": "code",
            "source": [
                "SELECT DATE_TRUNC('month', InvoiceDate) AS month,\r\n",
                "       ROUND(SUM(UnitPrice * Quantity)::numeric, 2) AS revenue\r\n",
                "FROM da.ecommerce_sales\r\n",
                "GROUP BY 1\r\n",
                "ORDER BY 1;\r\n",
                ""
            ],
            "metadata": {
                "language": "sql",
                "azdata_cell_guid": "65209c99-5d58-4cd2-bd72-0c34f971a5c2",
                "tags": [
                    "hide_input"
                ]
            },
            "outputs": [
                {
                    "output_type": "display_data",
                    "data": {
                        "text/html": "(1 row(s) affected)"
                    },
                    "metadata": {}
                },
                {
                    "output_type": "display_data",
                    "data": {
                        "text/html": "Total execution time: 00:00:00.005"
                    },
                    "metadata": {}
                },
                {
                    "output_type": "execute_result",
                    "metadata": {},
                    "execution_count": 10,
                    "data": {
                        "application/vnd.dataresource+json": {
                            "schema": {
                                "fields": [
                                    {
                                        "name": "month"
                                    },
                                    {
                                        "name": "revenue"
                                    }
                                ]
                            },
                            "data": [
                                {
                                    "month": "2010-12-01 00:00:00",
                                    "revenue": "17597.30"
                                }
                            ]
                        },
                        "text/html": [
                            "<table>",
                            "<tr><th>month</th><th>revenue</th></tr>",
                            "<tr><td>2010-12-01 00:00:00</td><td>17597.30</td></tr>",
                            "</table>"
                        ]
                    }
                }
            ],
            "execution_count": 10
        },
        {
            "cell_type": "code",
            "source": [
                "SELECT CustomerID,\r\n",
                "       COUNT(DISTINCT InvoiceNo) AS orders\r\n",
                "FROM da.ecommerce_sales\r\n",
                "GROUP BY CustomerID\r\n",
                "HAVING COUNT(DISTINCT InvoiceNo) > 1\r\n",
                "ORDER BY orders DESC, CustomerID\r\n",
                "LIMIT 10;\r\n",
                ""
            ],
            "metadata": {
                "azdata_cell_guid": "b11a2ab8-1fd5-4ae6-b8a2-1caf374770a0",
                "language": "sql",
                "tags": [
                    "hide_input"
                ]
            },
            "outputs": [
                {
                    "output_type": "display_data",
                    "data": {
                        "text/html": "(4 row(s) affected)"
                    },
                    "metadata": {}
                },
                {
                    "output_type": "display_data",
                    "data": {
                        "text/html": "Total execution time: 00:00:00.005"
                    },
                    "metadata": {}
                },
                {
                    "output_type": "execute_result",
                    "metadata": {},
                    "execution_count": 11,
                    "data": {
                        "application/vnd.dataresource+json": {
                            "schema": {
                                "fields": [
                                    {
                                        "name": "customerid"
                                    },
                                    {
                                        "name": "orders"
                                    }
                                ]
                            },
                            "data": [
                                {
                                    "customerid": "17850",
                                    "orders": "6"
                                },
                                {
                                    "customerid": "13047",
                                    "orders": "3"
                                },
                                {
                                    "customerid": "15311",
                                    "orders": "2"
                                },
                                {
                                    "customerid": "16029",
                                    "orders": "2"
                                }
                            ]
                        },
                        "text/html": [
                            "<table>",
                            "<tr><th>customerid</th><th>orders</th></tr>",
                            "<tr><td>17850</td><td>6</td></tr>",
                            "<tr><td>13047</td><td>3</td></tr>",
                            "<tr><td>15311</td><td>2</td></tr>",
                            "<tr><td>16029</td><td>2</td></tr>",
                            "</table>"
                        ]
                    }
                }
            ],
            "execution_count": 11
        },
        {
            "cell_type": "markdown",
            "source": [
                "\\## Insights\n",
                "\n",
                "\\- Revenue is concentrated among a few high-value customers.  \n",
                "\n",
                "\\- Monthly trend shows fluctuations and possible seasonal effects.  \n",
                "\n",
                "\\- Repeat buyers are a significant share of the customer base.  \n",
                "\n",
                "  \n",
                "\n",
                "📌 This notebook demonstrates \\*\\*SQL → Analytics → Insights\\*\\* pipeline, \n",
                "\n",
                "and sets the stage for a Power BI dashboard (Day 5–6)."
            ],
            "metadata": {
                "azdata_cell_guid": "d05693ee-08eb-4a82-a264-85c37612fabd"
            },
            "attachments": {}
        }
    ]
}